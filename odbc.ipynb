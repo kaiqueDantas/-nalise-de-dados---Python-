{
  "nbformat": 4,
  "nbformat_minor": 0,
  "metadata": {
    "colab": {
      "provenance": [],
      "authorship_tag": "ABX9TyPRHnRk52X7cWZoAJU9dSlY",
      "include_colab_link": true
    },
    "kernelspec": {
      "name": "python3",
      "display_name": "Python 3"
    },
    "language_info": {
      "name": "python"
    }
  },
  "cells": [
    {
      "cell_type": "markdown",
      "metadata": {
        "id": "view-in-github",
        "colab_type": "text"
      },
      "source": [
        "<a href=\"https://colab.research.google.com/github/kaiqueDantas/-nalise-de-dados---Python-/blob/master/odbc.ipynb\" target=\"_parent\"><img src=\"https://colab.research.google.com/assets/colab-badge.svg\" alt=\"Open In Colab\"/></a>"
      ]
    },
    {
      "cell_type": "code",
      "execution_count": null,
      "metadata": {
        "id": "lFVKRW6VFF7d"
      },
      "outputs": [],
      "source": [
        "pip install mysql-connector-python\n"
      ]
    },
    {
      "cell_type": "code",
      "source": [
        "import mysql.connector as mysql\n",
        "\n",
        "myconn = mysql.connect(host='mysql.ciev4sbuhneb.us-east-1.rds.amazonaws.com', user='admin', password='25712866', database='teste')\n",
        "#db_connection.close()\n",
        "cursor = myconn.cursor()\n",
        "query = str(input(\">>> \"))\n",
        "cursor.execute(query)\n",
        "\n",
        "for row in cursor:\n",
        "    print(row)\n",
        "\n",
        "myconn.close"
      ],
      "metadata": {
        "id": "T7QfMBCiGVMU"
      },
      "execution_count": null,
      "outputs": []
    },
    {
      "cell_type": "code",
      "source": [
        "from random import choice\n",
        "import string\n",
        "\n",
        "def randomPass():\n",
        "  dic = []\n",
        "  tamanho_da_senha = int(input(\"Quantos dígitos você quer na sua senha? \"))\n",
        "  caracteresAscii_letters = string.ascii_letters\n",
        "  caracteresDigits = string.digits\n",
        "  caracteresPunctuation = string.punctuation\n",
        "\n",
        "  dicionario = {'Caracter': caracteresAscii_letters, 'Dígito': caracteresDigits, 'Pontucao':caracteresPunctuation }\n",
        "\n",
        "  caracteres = caracteresAscii_letters + caracteresDigits + caracteresPunctuation\n",
        "  senha_segura = ''\n",
        "  for i in range(tamanho_da_senha):\n",
        "    senha_segura += choice(caracteres)\n",
        "\n",
        "  return\"A senha (segura) gerada é: \",senha_segura\n",
        "\n",
        "\n",
        "print(randomPass())"
      ],
      "metadata": {
        "colab": {
          "base_uri": "https://localhost:8080/"
        },
        "id": "iuH9Pi3FO0zD",
        "outputId": "b85d95d3-4dfe-47a6-e159-abd581ae1da7"
      },
      "execution_count": null,
      "outputs": [
        {
          "output_type": "stream",
          "name": "stdout",
          "text": [
            "Quantos dígitos você quer na sua senha? 20\n",
            "('A senha (segura) gerada é: ', 'Ya.s|ns_6w,7SI(RPWBf')\n"
          ]
        }
      ]
    },
    {
      "cell_type": "code",
      "source": [
        "import ipywidgets as widgets\n",
        "\n",
        "opcoes = ['Opção 1', 'Opção 2', 'Opção 3', 'Todas']\n",
        "\n",
        "caixa_selecao = widgets.SelectMultiple(\n",
        "    options=opcoes,\n",
        "    value=[],\n",
        "    description='Selecione:',\n",
        "    disabled=False\n",
        ")\n",
        "\n",
        "display(caixa_selecao)\n",
        "\n",
        "def obter_selecao(b):\n",
        "    if 'Todas' in caixa_selecao.value:\n",
        "        caixa_selecao.value = tuple(opcao for opcao in opcoes if opcao != 'Todas')\n",
        "    print(caixa_selecao.value)\n",
        "    \n",
        "botao = widgets.Button(description='Selecionar')\n",
        "display(botao)\n",
        "\n",
        "botao.on_click(obter_selecao)"
      ],
      "metadata": {
        "id": "cpkzFpEVhgDu"
      },
      "execution_count": null,
      "outputs": []
    },
    {
      "cell_type": "code",
      "source": [
        "!pip install kivy\n"
      ],
      "metadata": {
        "id": "VPodepk4ndLO"
      },
      "execution_count": null,
      "outputs": []
    },
    {
      "cell_type": "code",
      "source": [
        "!apt-get update\n",
        "!apt-get install -y \\\n",
        "    python-pygame \\\n",
        "    libsdl2-dev \\\n",
        "    libsdl2-image-dev \\\n",
        "    libsdl2-mixer-dev \\\n",
        "    libsdl2-ttf-dev \\\n",
        "    libportmidi-dev \\\n",
        "    libswscale-dev \\\n",
        "    libavformat-dev \\\n",
        "    libavcodec-dev \\\n",
        "    zlib1g-dev\n"
      ],
      "metadata": {
        "id": "6hLkxzopoRRv"
      },
      "execution_count": null,
      "outputs": []
    },
    {
      "cell_type": "code",
      "source": [
        "import kivy\n",
        "\n",
        "import os\n",
        "os.environ['DISPLAY'] = ':0.0'\n",
        "\n",
        "import kivy\n",
        "from kivy.app import App\n",
        "from kivy.uix.label import Label\n",
        "\n",
        "class MeuApp(App):\n",
        "    def build(self):\n",
        "        return Label(text=\"Olá, mundo!\")\n",
        "\n",
        "MeuApp().run()\n"
      ],
      "metadata": {
        "id": "UfcxrwrEohkY"
      },
      "execution_count": null,
      "outputs": []
    }
  ]
}